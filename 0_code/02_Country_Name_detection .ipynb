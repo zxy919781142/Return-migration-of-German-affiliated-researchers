{
 "cells": [
  {
   "cell_type": "markdown",
   "id": "0d163ee9",
   "metadata": {},
   "source": [
    "### 1.  country detelction  (not used in our analysis) "
   ]
  },
  {
   "cell_type": "code",
   "execution_count": null,
   "id": "55377c01",
   "metadata": {},
   "outputs": [],
   "source": [
    "# predict country usuing name: \n",
    "from nationality_predictor import predict\n",
    "import json\n",
    "\n",
    "exa=predict(\"Xinyi\")\n",
    "exa1 = json.loads(exa)\n",
    "country,prob,name = [],[],[]\n",
    "name.append(exa1[\"name\"])\n",
    "for result in exa1[\"countries\"]:\n",
    "    country.append(result[u'country_name'])\n",
    "    prob.append(result[u'probability'])\n",
    "df = pd.DataFrame([name,country,prob]).T\n",
    "df.rename(columns={0:\"name\",1:\"country\",2:\"prob\"},inplace=True)\n",
    "\n",
    "df[\"name\"]=df[\"name\"].ffill()\n",
    "df"
   ]
  },
  {
   "cell_type": "markdown",
   "id": "5fbdffd7",
   "metadata": {},
   "source": [
    "### 2. gender detection"
   ]
  },
  {
   "cell_type": "code",
   "execution_count": null,
   "id": "ffa8f87c",
   "metadata": {},
   "outputs": [],
   "source": [
    "import pandas as pd\n",
    "from genderize import Genderize\n",
    "\n",
    "# using detected name database (prob >0.7)\n",
    "UK_genders=pd.read_csv(\"N:\\\\Bibliometrics\\\\datasets\\\\Gender\\\\namesdataset_UK.csv\",encoding = 'latin-1')\n",
    "UK_genders.rename(columns={'name':'FIRSTNAME'},  inplace=True)\n",
    "UK_genders['FIRSTNAME'] = UK_genders['FIRSTNAME'].str.upper() \n",
    "UK_genders=UK_genders.drop_duplicates([\"FIRSTNAME\"])\n",
    "UK_genders=UK_genders.drop([\"count\",\"country_id\"],axis=1)\n",
    "UK_genders_1=UK_genders[UK_genders[\"probability\"]>=0.7]"
   ]
  },
  {
   "cell_type": "code",
   "execution_count": null,
   "id": "9d33c5fc",
   "metadata": {},
   "outputs": [],
   "source": [
    "UK_genders_1.rename(columns={\"FIRSTNAME\":\"FIRST_NAME\"},inplace=True)\n",
    "all_records_name=all_records_name.merge(UK_genders_1,on=\"FIRST_NAME\",how=\"left\")"
   ]
  },
  {
   "cell_type": "code",
   "execution_count": null,
   "id": "922f6261",
   "metadata": {},
   "outputs": [],
   "source": [
    "# import manual detection\n",
    "encoding = 'utf-8'\n",
    "\n",
    "genders_1=pd.read_csv(\"N:\\\\Bibliometric_Germany\\\\KB data\\\\processed\\\\id_gender_set_one.csv\",encoding = encoding)\n",
    "genders_2=pd.read_csv(\"N:\\\\Bibliometric_Germany\\\\KB data\\\\processed\\\\id_gender_set_two.csv\",encoding = encoding)\n",
    "genders_3=pd.read_csv(\"N:\\\\Bibliometric_Germany\\\\KB data\\\\processed\\\\name_dataset_manual_1996_2019_Abrar.csv\",encoding = encoding)\n",
    "genders_4=pd.read_csv(\"N:\\\\Bibliometric_Germany\\\\KB data\\\\processed\\\\name_dataset_manual_1996_2019_Chowdhury.csv\",encoding = encoding)\n",
    "\n",
    "genders=pd.concat([genders_1,genders_2,genders_3,genders_4])\n",
    "genders=genders[[\"AUTHOR_ID\",\"gender\"]]\n",
    "genders.drop_duplicates(['AUTHOR_ID'],inplace=True)\n",
    "\n",
    "all_records_ID=all_records[[\"AUTHOR_ID\",\"AUTHOR_ID_NEW\"]]\n",
    "genders=genders.merge(all_records_ID,on=\"AUTHOR_ID\",how=\"left\")\n",
    "genders[\"AUTHOR_ID_NEW\"]=genders[\"AUTHOR_ID_NEW\"].fillna(value=genders['AUTHOR_ID'])\n",
    "\n",
    "genders.drop(columns={\"AUTHOR_ID\"},inplace=True)\n",
    "\n"
   ]
  },
  {
   "cell_type": "code",
   "execution_count": null,
   "id": "e074ff62",
   "metadata": {},
   "outputs": [],
   "source": [
    "\n",
    "all_records_name_0=all_records_name[all_records_name[\"gender\"].notnull()]\n",
    "all_records_name_1=all_records_name[all_records_name[\"gender\"].isnull()]\n",
    "\n",
    "all_records_name_1=all_records_name_1.merge(genders,on=\"AUTHOR_ID_NEW\",how=\"left\")\n",
    "all_records_name_1.drop(columns={\"gender_x\",\"probability\"},inplace=True)\n",
    "all_records_name_1.rename(columns={\"gender_y\":\"gender\"},inplace=True)\n"
   ]
  },
  {
   "cell_type": "code",
   "execution_count": null,
   "id": "c3178161",
   "metadata": {},
   "outputs": [],
   "source": [
    "all_records_name_2=all_records_name_1[all_records_name_1[\"gender\"].isnull()]\n",
    "all_records_name_1=all_records_name_1[all_records_name_1[\"gender\"].notnull()]\n",
    "\n",
    "all_records_name_2[\"FIRST_NAME\"]=all_records_name_2[\"FIRST_NAME\"].str.replace(' [A-Z]*.','')\n",
    "\n",
    "names = all_records_name_2.drop_duplicates(\"FIRST_NAME\")\n",
    "names=names[\"FIRST_NAME\"]"
   ]
  },
  {
   "cell_type": "code",
   "execution_count": null,
   "id": "7e2fa588",
   "metadata": {},
   "outputs": [],
   "source": [
    "# using genderize.io \n",
    "\n",
    "#control the number of names in the range of 100000\n",
    "resultDF = pd.DataFrame(Genderize(api_key='09102439c490f52765cc4cf1bd390bb5').get(names))\n",
    "resultDF_1=resultDF[resultDF[\"probability\"]>0.6]"
   ]
  },
  {
   "cell_type": "code",
   "execution_count": null,
   "id": "479e0017",
   "metadata": {},
   "outputs": [],
   "source": [
    "all_records_name_2.drop(columns={\"gender\"},inplace=True)\n",
    "resultDF_1.drop(columns={\"probability\",\"count\"},inplace=True)\n",
    "resultDF_1.rename(columns={\"name\":\"FIRST_NAME\"},inplace=True)\n",
    "all_records_name_2=all_records_name_2.merge(resultDF_1,on=\"FIRST_NAME\",how=\"left\")\n",
    "\n",
    "all_records_name_3=all_records_name_2[all_records_name_2[\"gender\"].isnull()]\n",
    "all_records_name_2=all_records_name_2[all_records_name_2[\"gender\"].notnull()]"
   ]
  },
  {
   "cell_type": "code",
   "execution_count": null,
   "id": "2f468584",
   "metadata": {},
   "outputs": [],
   "source": [
    "#another manual name datset \n",
    "name_dataset_1=pd.read_csv(\"N:\\\\Bibliometric_Germany\\\\KB data\\\\others\\\\names_dataset.csv\",encoding=encoding)\n",
    "name_dataset_2=pd.read_csv(\"N:\\\\Bibliometric_Germany\\\\KB data\\\\others\\\\universalnames_dataset.csv\",encoding=encoding)\n",
    "name_dataset=pd.concat([name_dataset_1,name_dataset_2])"
   ]
  },
  {
   "cell_type": "code",
   "execution_count": null,
   "id": "424ff5d2",
   "metadata": {},
   "outputs": [],
   "source": [
    "def substitue_gender(x):\n",
    "    if (x==\"F\"): \n",
    "        x=\"female\"\n",
    "    elif (x==\"M\"):\n",
    "        x=\"male\"\n",
    "    else:\n",
    "        pass\n",
    "    \n",
    "    return x\n",
    "\n",
    "\n",
    "\n",
    "name_dataset.drop(columns={\"index\",\"Unnamed: 0\"},inplace=True)\n",
    "name_dataset.rename(columns={\"name\":\"FIRST_NAME\",\"sex\":\"gender\"},inplace=True)\n",
    "name_dataset.drop_duplicates(inplace=True)\n",
    "name_dataset[\"gender\"]=name_dataset[\"gender\"].map(lambda x: substitue_gender(x))\n",
    "name_dataset[\"FIRST_NAME\"]=name_dataset['FIRST_NAME'].map(lambda x: x.lower())"
   ]
  },
  {
   "cell_type": "code",
   "execution_count": null,
   "id": "63669d91",
   "metadata": {},
   "outputs": [],
   "source": [
    "all_records_name_3=all_records_name_3.merge(name_dataset,on=\"FIRST_NAME\",how=\"left\")\n",
    "all_records_name_3.drop(columns={\"gender_x\"},inplace=True)\n",
    "all_records_name_3.rename(columns={\"gender_y\":\"gender\"},inplace=True)\n",
    "\n",
    "all_records_name_4=all_records_name_3[all_records_name_3[\"gender\"].isnull()]\n",
    "all_records_name_3=all_records_name_3[all_records_name_3[\"gender\"].notnull()]"
   ]
  },
  {
   "cell_type": "code",
   "execution_count": null,
   "id": "860f47af",
   "metadata": {},
   "outputs": [],
   "source": [
    "all_records_name_0.drop(columns={\"probability\"},inplace=True)\n",
    "\n",
    "all_records_name_0=pd.concat([all_records_name_0,all_records_name_1,all_records_name_2,all_records_name_3])\n",
    "\n",
    "all_records_name_0.to_csv(\"N:\\\\Bibliometric_Germany\\\\KB data\\\\processed\\\\new_2021_April\\\\10_AuthorID_name_gender.csv\",encoding=encoding)\n",
    "all_records_name_4.to_csv(\"N:\\\\Bibliometric_Germany\\\\KB data\\\\processed\\\\new_2021_April\\\\10_AuthorID_name_gender_unknown.csv\",encoding=encoding)"
   ]
  },
  {
   "cell_type": "markdown",
   "id": "2e254397",
   "metadata": {},
   "source": [
    "### 3. machine learning gender detection "
   ]
  },
  {
   "cell_type": "code",
   "execution_count": null,
   "id": "3d4d17fe",
   "metadata": {},
   "outputs": [],
   "source": [
    "encoding = 'utf-8'\n",
    "\n",
    "# EDA packages\n",
    "import pandas as pd\n",
    "import numpy as np\n",
    "\n",
    "# ML Packages\n",
    "from sklearn.feature_extraction.text import CountVectorizer\n",
    "from sklearn.feature_extraction import DictVectorizer\n",
    "\n",
    "# trains dataset\n",
    "df_name=all_records_name_0[all_records_name_0[\"FIRST_NAME\"].notnull()][[\"FIRST_NAME\",\"gender\"]]\n",
    "df_name[\"FIRST_NAME\"]=df_name['FIRST_NAME'].map(lambda x: x.lower())\n",
    "df_name=df_name[df_name[\"gender\"]!=\"s\"]\n",
    "df_name[\"gender\"].replace({'female':0,'male':1},inplace=True)"
   ]
  },
  {
   "cell_type": "code",
   "execution_count": null,
   "id": "03bb8acc",
   "metadata": {},
   "outputs": [],
   "source": [
    "Xfeatures =df_name['FIRST_NAME']\n",
    "\n",
    "# Feature Extraction \n",
    "cv = CountVectorizer()\n",
    "X = cv.fit_transform(Xfeatures)\n",
    "cv.get_feature_names()"
   ]
  },
  {
   "cell_type": "code",
   "execution_count": null,
   "id": "74ae3d5e",
   "metadata": {},
   "outputs": [],
   "source": [
    "from sklearn.model_selection import train_test_split\n",
    "\n",
    "y = df_name.gender\n",
    "\n",
    "X_train, X_test, y_train, y_test = train_test_split(X, y, test_size=0.2, random_state=42)"
   ]
  },
  {
   "cell_type": "code",
   "execution_count": null,
   "id": "e879a604",
   "metadata": {},
   "outputs": [],
   "source": [
    "from sklearn.naive_bayes import MultinomialNB\n",
    "clf = MultinomialNB()\n",
    "clf.fit(X_train,y_train)\n",
    "clf.score(X_test,y_test)"
   ]
  },
  {
   "cell_type": "code",
   "execution_count": null,
   "id": "6a23e16d",
   "metadata": {},
   "outputs": [],
   "source": [
    "# predict unknown name\n",
    "def genderpredictor(a):\n",
    "    test_name = [a]\n",
    "    vector = cv.transform(test_name).toarray()\n",
    "    if clf.predict(vector) == 0:\n",
    "        b=\"female\"\n",
    "    else:\n",
    "        b=\"male\"\n",
    "        \n",
    "    return b"
   ]
  },
  {
   "cell_type": "code",
   "execution_count": null,
   "id": "c5c9bd0e",
   "metadata": {},
   "outputs": [],
   "source": [
    "unknown_names=all_records_name_4.copy()\n",
    "unknown_names[\"gender\"]=unknown_names[\"FIRST_NAME\"].apply(lambda x:genderpredictor(x))\n",
    "\n",
    "unknown_names.to_csv(\"N:\\\\Bibliometric_Germany\\\\KB data\\\\processed\\\\new_2021_April\\\\10_AuthorID_name_gender_predicted.csv\",encoding=encoding)"
   ]
  }
 ],
 "metadata": {
  "kernelspec": {
   "display_name": "Python 3",
   "language": "python",
   "name": "python3"
  },
  "language_info": {
   "codemirror_mode": {
    "name": "ipython",
    "version": 3
   },
   "file_extension": ".py",
   "mimetype": "text/x-python",
   "name": "python",
   "nbconvert_exporter": "python",
   "pygments_lexer": "ipython3",
   "version": "3.8.8"
  }
 },
 "nbformat": 4,
 "nbformat_minor": 5
}
